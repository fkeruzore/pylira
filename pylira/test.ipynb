{
 "cells": [
  {
   "cell_type": "code",
   "execution_count": null,
   "metadata": {},
   "outputs": [],
   "source": [
    "%matplotlib widget\n",
    "%load_ext autoreload\n",
    "%autoreload 2"
   ]
  },
  {
   "cell_type": "code",
   "execution_count": null,
   "metadata": {},
   "outputs": [],
   "source": [
    "import numpy as np\n",
    "import matplotlib.pyplot as plt\n",
    "from pylira import Dataset"
   ]
  },
  {
   "cell_type": "code",
   "execution_count": null,
   "metadata": {},
   "outputs": [],
   "source": [
    "n = 50\n",
    "alpha, beta, sigma = 1.0, 1.0, 0.25\n",
    "\n",
    "x = np.random.normal(0.0, 1.0, n)\n",
    "y = np.random.normal(alpha + beta * x, sigma)\n",
    "\n",
    "x_err = np.ones(n) * 0.1\n",
    "y_err = np.ones(n) * 0.1\n",
    "corr = np.ones(n) * 0.0\n",
    "\n",
    "x_obs = np.random.normal(x, x_err)\n",
    "y_obs = np.random.normal(y, y_err)\n",
    "\n",
    "ds = Dataset(x_obs, y_obs, x_err, y_err, corr=corr)"
   ]
  },
  {
   "cell_type": "code",
   "execution_count": null,
   "metadata": {},
   "outputs": [],
   "source": [
    "fig, ax = ds.plot_data(style=\"errb\")\n",
    "ds.plot_alphabeta(ax, alpha, beta, label=\"Truth\", addeq=True, ls=\"--\", color=\"k\")"
   ]
  },
  {
   "cell_type": "code",
   "execution_count": null,
   "metadata": {},
   "outputs": [],
   "source": []
  }
 ],
 "metadata": {
  "kernelspec": {
   "display_name": "Python 3.10.4 ('scaling')",
   "language": "python",
   "name": "python3"
  },
  "language_info": {
   "codemirror_mode": {
    "name": "ipython",
    "version": 3
   },
   "file_extension": ".py",
   "mimetype": "text/x-python",
   "name": "python",
   "nbconvert_exporter": "python",
   "pygments_lexer": "ipython3",
   "version": "3.10.4"
  },
  "orig_nbformat": 4,
  "vscode": {
   "interpreter": {
    "hash": "ebd02a8991f65e92410c2eab5a63ebcdbae77ad4684e91f6249db898af27d0ed"
   }
  }
 },
 "nbformat": 4,
 "nbformat_minor": 2
}
